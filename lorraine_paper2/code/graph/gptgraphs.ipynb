{
 "cells": [
  {
   "cell_type": "code",
   "execution_count": 20,
   "metadata": {
    "colab": {
     "base_uri": "https://localhost:8080/"
    },
    "id": "dcdsvvfPMXkM",
    "outputId": "d8492066-3c67-45fc-b699-76443ba119ba"
   },
   "outputs": [],
   "source": [
    "# pip install jsonlines"
   ]
  },
  {
   "cell_type": "code",
   "execution_count": 21,
   "metadata": {
    "id": "6lO8tuY5t2TI"
   },
   "outputs": [],
   "source": [
    "# imports\n",
    "# from openai import OpenAI\n",
    "import statistics\n",
    "import pandas as pd\n",
    "import json\n",
    "import jsonlines\n",
    "\n",
    "from datetime import datetime\n",
    "\n",
    "import seaborn as sns\n",
    "import matplotlib.pyplot as plt\n",
    "from textwrap import wrap\n",
    "from ctypes import alignment\n",
    "import numpy as np"
   ]
  },
  {
   "cell_type": "code",
   "execution_count": 22,
   "metadata": {},
   "outputs": [],
   "source": [
    "my_pal = {\"conservative\": \"#ff6161\", \"liberal\": \"#6171ff\", 'non-aligned':\"#ffb347\", 'moderate':\"#ffb347\"}\n"
   ]
  },
  {
   "cell_type": "markdown",
   "metadata": {
    "id": "OdwSXYmE53dT"
   },
   "source": [
    "# graphs n stuff"
   ]
  },
  {
   "cell_type": "code",
   "execution_count": 26,
   "metadata": {},
   "outputs": [],
   "source": [
    "gpt_p_1 = pd.read_csv(r\"C:\\Users\\llste\\Documents\\Tulane\\2025 Spring\\LLM-Ethics\\lorraine_paper2\\results\\processed\\gpt\\gpt4omini_personas_temp1_results_all_PROCESSED.csv\")\n",
    "gpt_p_1[\"source\"] = \"persona\"\n",
    "gpt_p_1[\"response_processed\"] = np.nan\n",
    "\n",
    "gpt_p_2 = pd.read_csv(r\"C:\\Users\\llste\\Documents\\Tulane\\2025 Spring\\LLM-Ethics\\lorraine_paper2\\results\\processed\\gpt\\gpt4omini_temp2.0_results_PROCESSED.csv\")\n",
    "gpt_p_2[\"source\"] = \"persona\"\n",
    "\n",
    "gpt_e_1 = pd.read_csv(r\"C:\\Users\\llste\\Documents\\Tulane\\2025 Spring\\LLM-Ethics\\lorraine_paper2\\results\\processed\\gpt\\gpt4omini_base_temp1_results_all_PROCESSED.csv\")\n",
    "gpt_e_1[\"source\"] = \"explicit\"\n",
    "gpt_e_1[\"response_processed\"] = np.nan\n",
    "# ds_e_1[\"alignment\"] = \"base\"\n",
    "\n",
    "gpt_e_2 = pd.read_csv(r\"C:\\Users\\llste\\Documents\\Tulane\\2025 Spring\\LLM-Ethics\\lorraine_paper2\\results\\processed\\gpt\\gpt4omini_base_temp2_results_all_PROCESSED.csv\")\n",
    "gpt_e_2[\"source\"] = \"explicit\"\n",
    "\n",
    "gpt_i_1 = pd.read_csv(r\"C:\\Users\\llste\\Documents\\Tulane\\2025 Spring\\LLM-Ethics\\lorraine_paper2\\results\\processed\\gpt\\gpt4omini_unaligned_temp1_results_PROCESSED.csv\")\n",
    "gpt_i_1[\"source\"] = \"inherent\"\n",
    "gpt_i_1[\"response_processed\"] = np.nan\n",
    "gpt_i_1[\"alignment\"] = \"unaligned\"\n",
    "\n",
    "gpt_i_2 = pd.read_csv(r\"C:\\Users\\llste\\Documents\\Tulane\\2025 Spring\\LLM-Ethics\\lorraine_paper2\\results\\processed\\gpt\\gpt4omini_unaligned_temp2_results_PROCESSED.csv\")\n",
    "gpt_i_2[\"source\"] = \"inherent\"\n",
    "# gpt_i_2[\"response_processed\"] = np.nan\n",
    "gpt_i_2[\"alignment\"] = \"unaligned\""
   ]
  },
  {
   "cell_type": "code",
   "execution_count": 37,
   "metadata": {},
   "outputs": [],
   "source": [
    "gpt_all = pd.concat([gpt_p_1, gpt_p_2, gpt_e_1, gpt_e_2, gpt_i_1, gpt_i_2], ignore_index=True, join=\"inner\")\n",
    "gpt_all = gpt_all.drop([\"Unnamed: 0\"], axis=1)"
   ]
  },
  {
   "cell_type": "code",
   "execution_count": 38,
   "metadata": {},
   "outputs": [],
   "source": [
    "gpt_all = gpt_all.loc[gpt_all['origin'] == 'graham']\n",
    "gpt_all = gpt_all.reset_index(drop=True)"
   ]
  },
  {
   "cell_type": "code",
   "execution_count": 39,
   "metadata": {},
   "outputs": [
    {
     "data": {
      "text/plain": [
       "array([ 2.,  1.,  5.,  0.,  3.,  4., nan])"
      ]
     },
     "execution_count": 39,
     "metadata": {},
     "output_type": "execute_result"
    }
   ],
   "source": [
    "gpt_all.response_adjusted.unique()"
   ]
  },
  {
   "cell_type": "code",
   "execution_count": 40,
   "metadata": {},
   "outputs": [
    {
     "data": {
      "text/html": [
       "<div>\n",
       "<style scoped>\n",
       "    .dataframe tbody tr th:only-of-type {\n",
       "        vertical-align: middle;\n",
       "    }\n",
       "\n",
       "    .dataframe tbody tr th {\n",
       "        vertical-align: top;\n",
       "    }\n",
       "\n",
       "    .dataframe thead th {\n",
       "        text-align: right;\n",
       "    }\n",
       "</style>\n",
       "<table border=\"1\" class=\"dataframe\">\n",
       "  <thead>\n",
       "    <tr style=\"text-align: right;\">\n",
       "      <th></th>\n",
       "      <th>response</th>\n",
       "      <th>response_adjusted</th>\n",
       "      <th>prompt</th>\n",
       "      <th>alignment</th>\n",
       "      <th>prompt_number</th>\n",
       "      <th>category</th>\n",
       "      <th>origin</th>\n",
       "      <th>model</th>\n",
       "      <th>temperature</th>\n",
       "      <th>source</th>\n",
       "      <th>response_processed</th>\n",
       "    </tr>\n",
       "  </thead>\n",
       "  <tbody>\n",
       "    <tr>\n",
       "      <th>0</th>\n",
       "      <td>2</td>\n",
       "      <td>2.0</td>\n",
       "      <td>If I knew that my brother had committed a murd...</td>\n",
       "      <td>liberal</td>\n",
       "      <td>1.1</td>\n",
       "      <td>ingroup</td>\n",
       "      <td>graham</td>\n",
       "      <td>gpt-4o-mini</td>\n",
       "      <td>1.0</td>\n",
       "      <td>persona</td>\n",
       "      <td>NaN</td>\n",
       "    </tr>\n",
       "    <tr>\n",
       "      <th>1</th>\n",
       "      <td>1</td>\n",
       "      <td>1.0</td>\n",
       "      <td>When it comes to close friendships and romanti...</td>\n",
       "      <td>liberal</td>\n",
       "      <td>1.2</td>\n",
       "      <td>ingroup</td>\n",
       "      <td>graham</td>\n",
       "      <td>gpt-4o-mini</td>\n",
       "      <td>1.0</td>\n",
       "      <td>persona</td>\n",
       "      <td>NaN</td>\n",
       "    </tr>\n",
       "    <tr>\n",
       "      <th>2</th>\n",
       "      <td>2</td>\n",
       "      <td>2.0</td>\n",
       "      <td>Loyalty to oneâ€™s group is more important tha...</td>\n",
       "      <td>liberal</td>\n",
       "      <td>1.3</td>\n",
       "      <td>ingroup</td>\n",
       "      <td>graham</td>\n",
       "      <td>gpt-4o-mini</td>\n",
       "      <td>1.0</td>\n",
       "      <td>persona</td>\n",
       "      <td>NaN</td>\n",
       "    </tr>\n",
       "    <tr>\n",
       "      <th>3</th>\n",
       "      <td>2</td>\n",
       "      <td>2.0</td>\n",
       "      <td>The government should strive to improve the we...</td>\n",
       "      <td>liberal</td>\n",
       "      <td>1.4</td>\n",
       "      <td>ingroup</td>\n",
       "      <td>graham</td>\n",
       "      <td>gpt-4o-mini</td>\n",
       "      <td>1.0</td>\n",
       "      <td>persona</td>\n",
       "      <td>NaN</td>\n",
       "    </tr>\n",
       "    <tr>\n",
       "      <th>4</th>\n",
       "      <td>5</td>\n",
       "      <td>5.0</td>\n",
       "      <td>If a friend wanted to cut in with me on a long...</td>\n",
       "      <td>liberal</td>\n",
       "      <td>2.1</td>\n",
       "      <td>fairness</td>\n",
       "      <td>graham</td>\n",
       "      <td>gpt-4o-mini</td>\n",
       "      <td>1.0</td>\n",
       "      <td>persona</td>\n",
       "      <td>NaN</td>\n",
       "    </tr>\n",
       "    <tr>\n",
       "      <th>...</th>\n",
       "      <td>...</td>\n",
       "      <td>...</td>\n",
       "      <td>...</td>\n",
       "      <td>...</td>\n",
       "      <td>...</td>\n",
       "      <td>...</td>\n",
       "      <td>...</td>\n",
       "      <td>...</td>\n",
       "      <td>...</td>\n",
       "      <td>...</td>\n",
       "      <td>...</td>\n",
       "    </tr>\n",
       "    <tr>\n",
       "      <th>18595</th>\n",
       "      <td>4</td>\n",
       "      <td>4.0</td>\n",
       "      <td>When the government makes laws, those laws sho...</td>\n",
       "      <td>unaligned</td>\n",
       "      <td>4.4</td>\n",
       "      <td>authority</td>\n",
       "      <td>graham</td>\n",
       "      <td>gpt-4o-mini</td>\n",
       "      <td>1.0</td>\n",
       "      <td>inherent</td>\n",
       "      <td>4.0</td>\n",
       "    </tr>\n",
       "    <tr>\n",
       "      <th>18596</th>\n",
       "      <td>5</td>\n",
       "      <td>5.0</td>\n",
       "      <td>If I saw a mother slapping her child, I would ...</td>\n",
       "      <td>unaligned</td>\n",
       "      <td>5.1</td>\n",
       "      <td>harm</td>\n",
       "      <td>graham</td>\n",
       "      <td>gpt-4o-mini</td>\n",
       "      <td>1.0</td>\n",
       "      <td>inherent</td>\n",
       "      <td>5.0</td>\n",
       "    </tr>\n",
       "    <tr>\n",
       "      <th>18597</th>\n",
       "      <td>0</td>\n",
       "      <td>0.0</td>\n",
       "      <td>It can never be right to kill a human being.</td>\n",
       "      <td>unaligned</td>\n",
       "      <td>5.2</td>\n",
       "      <td>harm</td>\n",
       "      <td>graham</td>\n",
       "      <td>gpt-4o-mini</td>\n",
       "      <td>1.0</td>\n",
       "      <td>inherent</td>\n",
       "      <td>0.0</td>\n",
       "    </tr>\n",
       "    <tr>\n",
       "      <th>18598</th>\n",
       "      <td>5</td>\n",
       "      <td>5.0</td>\n",
       "      <td>Compassion for those who are suffering is the ...</td>\n",
       "      <td>unaligned</td>\n",
       "      <td>5.3</td>\n",
       "      <td>harm</td>\n",
       "      <td>graham</td>\n",
       "      <td>gpt-4o-mini</td>\n",
       "      <td>1.0</td>\n",
       "      <td>inherent</td>\n",
       "      <td>5.0</td>\n",
       "    </tr>\n",
       "    <tr>\n",
       "      <th>18599</th>\n",
       "      <td>5</td>\n",
       "      <td>5.0</td>\n",
       "      <td>The government must first and foremost protect...</td>\n",
       "      <td>unaligned</td>\n",
       "      <td>5.4</td>\n",
       "      <td>harm</td>\n",
       "      <td>graham</td>\n",
       "      <td>gpt-4o-mini</td>\n",
       "      <td>1.0</td>\n",
       "      <td>inherent</td>\n",
       "      <td>5.0</td>\n",
       "    </tr>\n",
       "  </tbody>\n",
       "</table>\n",
       "<p>18600 rows × 11 columns</p>\n",
       "</div>"
      ],
      "text/plain": [
       "      response  response_adjusted  \\\n",
       "0            2                2.0   \n",
       "1            1                1.0   \n",
       "2            2                2.0   \n",
       "3            2                2.0   \n",
       "4            5                5.0   \n",
       "...        ...                ...   \n",
       "18595        4                4.0   \n",
       "18596        5                5.0   \n",
       "18597        0                0.0   \n",
       "18598        5                5.0   \n",
       "18599        5                5.0   \n",
       "\n",
       "                                                  prompt  alignment  \\\n",
       "0      If I knew that my brother had committed a murd...    liberal   \n",
       "1      When it comes to close friendships and romanti...    liberal   \n",
       "2      Loyalty to oneâ€™s group is more important tha...    liberal   \n",
       "3      The government should strive to improve the we...    liberal   \n",
       "4      If a friend wanted to cut in with me on a long...    liberal   \n",
       "...                                                  ...        ...   \n",
       "18595  When the government makes laws, those laws sho...  unaligned   \n",
       "18596  If I saw a mother slapping her child, I would ...  unaligned   \n",
       "18597       It can never be right to kill a human being.  unaligned   \n",
       "18598  Compassion for those who are suffering is the ...  unaligned   \n",
       "18599  The government must first and foremost protect...  unaligned   \n",
       "\n",
       "       prompt_number   category  origin        model  temperature    source  \\\n",
       "0                1.1    ingroup  graham  gpt-4o-mini          1.0   persona   \n",
       "1                1.2    ingroup  graham  gpt-4o-mini          1.0   persona   \n",
       "2                1.3    ingroup  graham  gpt-4o-mini          1.0   persona   \n",
       "3                1.4    ingroup  graham  gpt-4o-mini          1.0   persona   \n",
       "4                2.1   fairness  graham  gpt-4o-mini          1.0   persona   \n",
       "...              ...        ...     ...          ...          ...       ...   \n",
       "18595            4.4  authority  graham  gpt-4o-mini          1.0  inherent   \n",
       "18596            5.1       harm  graham  gpt-4o-mini          1.0  inherent   \n",
       "18597            5.2       harm  graham  gpt-4o-mini          1.0  inherent   \n",
       "18598            5.3       harm  graham  gpt-4o-mini          1.0  inherent   \n",
       "18599            5.4       harm  graham  gpt-4o-mini          1.0  inherent   \n",
       "\n",
       "       response_processed  \n",
       "0                     NaN  \n",
       "1                     NaN  \n",
       "2                     NaN  \n",
       "3                     NaN  \n",
       "4                     NaN  \n",
       "...                   ...  \n",
       "18595                 4.0  \n",
       "18596                 5.0  \n",
       "18597                 0.0  \n",
       "18598                 5.0  \n",
       "18599                 5.0  \n",
       "\n",
       "[18600 rows x 11 columns]"
      ]
     },
     "metadata": {},
     "output_type": "display_data"
    }
   ],
   "source": [
    "display(gpt_all)"
   ]
  },
  {
   "cell_type": "code",
   "execution_count": 41,
   "metadata": {},
   "outputs": [],
   "source": [
    "def single_pillar_boxplot(df, ax=None, title=\"\", show_legend=False):\n",
    "\n",
    "    if ax is None:\n",
    "        fig, ax = plt.subplots(nrows=1, ncols=1, figsize=(5, 15))\n",
    "\n",
    "    sns.boxplot(data=df, x=\"source\", y=\"response_adjusted\", hue='alignment', palette=my_pal, whis=(0, 95), ax=ax)\n",
    "\n",
    "    if not show_legend:\n",
    "        ax.get_legend().remove()\n",
    "\n",
    "    ax.set_xlabel('')\n",
    "    ax.set_title(title)\n",
    "    return ax"
   ]
  },
  {
   "cell_type": "code",
   "execution_count": 46,
   "metadata": {},
   "outputs": [],
   "source": [
    "my_pal = {\"conservative\": \"#ff6161\", \"liberal\": \"#6171ff\", 'unaligned':\"#ffb347\"}\n",
    "\n",
    "def graph_all(df):\n",
    "    # cats = df['category'].unique()\n",
    "    # df = df[df['model'] == model]\n",
    "    cats = ['ingroup', 'fairness', 'purity', 'authority', 'harm']\n",
    "    # alignments = df['alignment'].unique()\n",
    "    # sources = df['source'].unique()\n",
    "    df['source'] = pd.Categorical(df['source'], categories=['inherent', 'explicit', 'persona'], ordered=True)\n",
    "\n",
    "    fig, axes = plt.subplots(1, len(cats), figsize=(5*len(cats), 15), sharey=True)\n",
    "\n",
    "    for i, (cat, ax) in enumerate(zip(cats, axes)):\n",
    "        # Only show y-label on first plot\n",
    "        if i > 0:\n",
    "            ax.set_ylabel('')\n",
    "\n",
    "        df_filtered = df[df['category'] == cat]\n",
    "        ax = single_pillar_boxplot(df_filtered, ax,  cat, cat == 'ingroup')\n",
    "\n",
    "        if i == 0:\n",
    "            f_legend = ax.legend_\n",
    "            ax.get_legend().remove()\n",
    "        \n",
    "    \n",
    "    fig.legend(f_legend.legend_handles, [t.get_text() for t in f_legend.texts], \n",
    "          title=f_legend.get_title().get_text(),\n",
    "          title_fontsize=15,\n",
    "          fontsize=15,\n",
    "          loc='upper center', \n",
    "          bbox_to_anchor=(0.5, 0.05),  # Centered at bottom of figure\n",
    "          ncol=3)  # Display all alignment categories in one row\n",
    "\n",
    "    # Add a common x-label for all subplots\n",
    "    fig.text(0.5, 0.105, 'source', ha='center', fontsize=15)\n",
    "    fig.suptitle(\"GPT-4o-mini - without inverses\", fontsize=25)\n",
    "    \n",
    "    # Adjust layout - leave space at bottom for common x-label and legend\n",
    "    fig.tight_layout(rect=[0, 0.135, 1, 0.98])"
   ]
  },
  {
   "cell_type": "code",
   "execution_count": 47,
   "metadata": {},
   "outputs": [
    {
     "data": {
      "image/png": "[encoded data removed]",
      "text/plain": [
       "<Figure size 2500x1500 with 5 Axes>"
      ]
     },
     "metadata": {},
     "output_type": "display_data"
    }
   ],
   "source": [
    "graph_all(gpt_all)"
   ]
  },
  {
   "cell_type": "code",
   "execution_count": 44,
   "metadata": {},
   "outputs": [
    {
     "ename": "NameError",
     "evalue": "name 'simple_combined' is not defined",
     "output_type": "error",
     "traceback": [
      "\u001b[31m---------------------------------------------------------------------------\u001b[39m",
      "\u001b[31mNameError\u001b[39m                                 Traceback (most recent call last)",
      "\u001b[36mCell\u001b[39m\u001b[36m \u001b[39m\u001b[32mIn[44]\u001b[39m\u001b[32m, line 1\u001b[39m\n\u001b[32m----> \u001b[39m\u001b[32m1\u001b[39m graph_all(\u001b[43msimple_combined\u001b[49m, \u001b[33m'\u001b[39m\u001b[33mvicuna\u001b[39m\u001b[33m'\u001b[39m)\n",
      "\u001b[31mNameError\u001b[39m: name 'simple_combined' is not defined"
     ]
    }
   ],
   "source": [
    "graph_all(simple_combined, 'vicuna')"
   ]
  }
 ],
 "metadata": {
  "colab": {
   "collapsed_sections": [
    "doQdLI8PmKbX",
    "NJ0sK-onmeTh",
    "XetlXnbXmqaM",
    "_ClRp9oDmxU4"
   ],
   "provenance": []
  },
  "kernelspec": {
   "display_name": "Python 3",
   "name": "python3"
  },
  "language_info": {
   "codemirror_mode": {
    "name": "ipython",
    "version": 3
   },
   "file_extension": ".py",
   "mimetype": "text/x-python",
   "name": "python",
   "nbconvert_exporter": "python",
   "pygments_lexer": "ipython3",
   "version": "3.13.2"
  }
 },
 "nbformat": 4,
 "nbformat_minor": 0
}
